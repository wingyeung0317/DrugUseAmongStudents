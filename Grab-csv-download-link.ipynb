{
 "cells": [
  {
   "cell_type": "code",
   "execution_count": 1,
   "metadata": {},
   "outputs": [],
   "source": [
    "import re\n",
    "import pandas as pd\n",
    "from urllib.request import urlopen\n",
    "import urllib.request\n",
    "from bs4 import BeautifulSoup as soup"
   ]
  },
  {
   "cell_type": "code",
   "execution_count": 2,
   "metadata": {},
   "outputs": [],
   "source": [
    "hdr = {'User-Agent':'Mozilla/5.0', 'Accept': 'text/html, application/xhtml+xml,application/xml;q=0.9,*/*;q=0.8'}\n",
    "url = []\n",
    "\n",
    "try:\n",
    "    req = urllib.request.Request('https://data.gov.hk/tc-data/dataset/hk-sb-drug_stud-drug-use-students', headers=hdr)\n",
    "    html_page = urllib.request.urlopen(req, timeout=60)\n",
    "    html_soup = soup(html_page, \"html.parser\")\n",
    "except:\n",
    "    print('Failed to connect https://data.gov.hk/tc-data/dataset/hk-sb-drug_stud-drug-use-students')"
   ]
  },
  {
   "cell_type": "code",
   "execution_count": 3,
   "metadata": {},
   "outputs": [],
   "source": [
    "df=pd.DataFrame()"
   ]
  },
  {
   "cell_type": "code",
   "execution_count": 37,
   "metadata": {},
   "outputs": [],
   "source": [
    "htmlTagToKeep = ['a','div']\n",
    "title = html_soup.findAll(htmlTagToKeep, class_='dataset-details__list-item-name')\n",
    "allTags = html_soup.findAll(htmlTagToKeep, class_='dataset-details__list-item-download')\n",
    "url = {}\n",
    "f = open('csvList.txt', 'w')\n",
    "for i, tag in enumerate(allTags):\n",
    "  f.write(tag.get('href')+'\\n')\n",
    "  url[i] = tag.get('href')\n",
    "f.close()"
   ]
  },
  {
   "cell_type": "code",
   "execution_count": 11,
   "metadata": {},
   "outputs": [
    {
     "ename": "SyntaxError",
     "evalue": "invalid syntax (3292570962.py, line 1)",
     "output_type": "error",
     "traceback": [
      "\u001b[1;36m  Cell \u001b[1;32mIn[11], line 1\u001b[1;36m\u001b[0m\n\u001b[1;33m    df['link'] = url[]\u001b[0m\n\u001b[1;37m                     ^\u001b[0m\n\u001b[1;31mSyntaxError\u001b[0m\u001b[1;31m:\u001b[0m invalid syntax\n"
     ]
    }
   ],
   "source": []
  },
  {
   "cell_type": "code",
   "execution_count": 142,
   "metadata": {},
   "outputs": [
    {
     "data": {
      "text/html": [
       "<div>\n",
       "<style scoped>\n",
       "    .dataframe tbody tr th:only-of-type {\n",
       "        vertical-align: middle;\n",
       "    }\n",
       "\n",
       "    .dataframe tbody tr th {\n",
       "        vertical-align: top;\n",
       "    }\n",
       "\n",
       "    .dataframe thead th {\n",
       "        text-align: right;\n",
       "    }\n",
       "</style>\n",
       "<table border=\"1\" class=\"dataframe\">\n",
       "  <thead>\n",
       "    <tr style=\"text-align: right;\">\n",
       "      <th></th>\n",
       "      <th>Title</th>\n",
       "      <th>url</th>\n",
       "      <th>isZH</th>\n",
       "    </tr>\n",
       "  </thead>\n",
       "  <tbody>\n",
       "    <tr>\n",
       "      <th>0</th>\n",
       "      <td>表1.1曾吸食毒品的學生所佔比例（按年齡、性別及教育程度分組）（2017-18年及2020-...</td>\n",
       "      <td>https://www.nd.gov.hk/psi-dataset/drug-use-amo...</td>\n",
       "      <td>[繁]</td>\n",
       "    </tr>\n",
       "    <tr>\n",
       "      <th>1</th>\n",
       "      <td>表1.2曾吸煙的學生所佔比例（按年齡、性別及教育程度分組）（2017-18年及2020-21...</td>\n",
       "      <td>https://www.nd.gov.hk/psi-dataset/drug-use-amo...</td>\n",
       "      <td>[繁]</td>\n",
       "    </tr>\n",
       "    <tr>\n",
       "      <th>2</th>\n",
       "      <td>表1.3曾飲酒的學生所佔比例（按年齡、性別及教育程度分組）（2017-18年及2020-21...</td>\n",
       "      <td>https://www.nd.gov.hk/psi-dataset/drug-use-amo...</td>\n",
       "      <td>[繁]</td>\n",
       "    </tr>\n",
       "    <tr>\n",
       "      <th>3</th>\n",
       "      <td>表1.4一年內曾吸食毒品、吸煙、飲酒的學生所佔比例（按年齡及性別分組）（2017-18年及2...</td>\n",
       "      <td>https://www.nd.gov.hk/psi-dataset/drug-use-amo...</td>\n",
       "      <td>[繁]</td>\n",
       "    </tr>\n",
       "    <tr>\n",
       "      <th>4</th>\n",
       "      <td>表1.530天內曾吸食毒品、吸煙、飲酒的學生所佔比例（按年齡及性別分組）（2017-18年及...</td>\n",
       "      <td>https://www.nd.gov.hk/psi-dataset/drug-use-amo...</td>\n",
       "      <td>[繁]</td>\n",
       "    </tr>\n",
       "    <tr>\n",
       "      <th>...</th>\n",
       "      <td>...</td>\n",
       "      <td>...</td>\n",
       "      <td>...</td>\n",
       "    </tr>\n",
       "    <tr>\n",
       "      <th>524</th>\n",
       "      <td>表4.7在閒暇獨處時常做的事情(繁體中文)[2004-05]</td>\n",
       "      <td>https://www.nd.gov.hk/psi-dataset/drug-use-amo...</td>\n",
       "      <td>[繁]</td>\n",
       "    </tr>\n",
       "    <tr>\n",
       "      <th>525</th>\n",
       "      <td>表4.8在閒暇與好友一起時常做的事情(繁體中文)[2004-05]</td>\n",
       "      <td>https://www.nd.gov.hk/psi-dataset/drug-use-amo...</td>\n",
       "      <td>[繁]</td>\n",
       "    </tr>\n",
       "    <tr>\n",
       "      <th>526</th>\n",
       "      <td>表4.9與家人的關係(繁體中文)[2004-05]</td>\n",
       "      <td>https://www.nd.gov.hk/psi-dataset/drug-use-amo...</td>\n",
       "      <td>[繁]</td>\n",
       "    </tr>\n",
       "    <tr>\n",
       "      <th>527</th>\n",
       "      <td>表4.10是否與父母同住及父母的狀況(繁體中文)[2004-05]</td>\n",
       "      <td>https://www.nd.gov.hk/psi-dataset/drug-use-amo...</td>\n",
       "      <td>[繁]</td>\n",
       "    </tr>\n",
       "    <tr>\n",
       "      <th>528</th>\n",
       "      <td>表4.11家庭每月總收入(繁體中文)[2004-05]</td>\n",
       "      <td>https://www.nd.gov.hk/psi-dataset/drug-use-amo...</td>\n",
       "      <td>[繁]</td>\n",
       "    </tr>\n",
       "  </tbody>\n",
       "</table>\n",
       "<p>284 rows × 3 columns</p>\n",
       "</div>"
      ],
      "text/plain": [
       "                                                 Title  \\\n",
       "0    表1.1曾吸食毒品的學生所佔比例（按年齡、性別及教育程度分組）（2017-18年及2020-...   \n",
       "1    表1.2曾吸煙的學生所佔比例（按年齡、性別及教育程度分組）（2017-18年及2020-21...   \n",
       "2    表1.3曾飲酒的學生所佔比例（按年齡、性別及教育程度分組）（2017-18年及2020-21...   \n",
       "3    表1.4一年內曾吸食毒品、吸煙、飲酒的學生所佔比例（按年齡及性別分組）（2017-18年及2...   \n",
       "4    表1.530天內曾吸食毒品、吸煙、飲酒的學生所佔比例（按年齡及性別分組）（2017-18年及...   \n",
       "..                                                 ...   \n",
       "524                     表4.7在閒暇獨處時常做的事情(繁體中文)[2004-05]   \n",
       "525                  表4.8在閒暇與好友一起時常做的事情(繁體中文)[2004-05]   \n",
       "526                          表4.9與家人的關係(繁體中文)[2004-05]   \n",
       "527                  表4.10是否與父母同住及父母的狀況(繁體中文)[2004-05]   \n",
       "528                        表4.11家庭每月總收入(繁體中文)[2004-05]   \n",
       "\n",
       "                                                   url isZH  \n",
       "0    https://www.nd.gov.hk/psi-dataset/drug-use-amo...  [繁]  \n",
       "1    https://www.nd.gov.hk/psi-dataset/drug-use-amo...  [繁]  \n",
       "2    https://www.nd.gov.hk/psi-dataset/drug-use-amo...  [繁]  \n",
       "3    https://www.nd.gov.hk/psi-dataset/drug-use-amo...  [繁]  \n",
       "4    https://www.nd.gov.hk/psi-dataset/drug-use-amo...  [繁]  \n",
       "..                                                 ...  ...  \n",
       "524  https://www.nd.gov.hk/psi-dataset/drug-use-amo...  [繁]  \n",
       "525  https://www.nd.gov.hk/psi-dataset/drug-use-amo...  [繁]  \n",
       "526  https://www.nd.gov.hk/psi-dataset/drug-use-amo...  [繁]  \n",
       "527  https://www.nd.gov.hk/psi-dataset/drug-use-amo...  [繁]  \n",
       "528  https://www.nd.gov.hk/psi-dataset/drug-use-amo...  [繁]  \n",
       "\n",
       "[284 rows x 3 columns]"
      ]
     },
     "execution_count": 142,
     "metadata": {},
     "output_type": "execute_result"
    }
   ],
   "source": [
    "t={}\n",
    "u={}\n",
    "df = pd.DataFrame()\n",
    "for i, TITLE in enumerate(title):\n",
    "    t[i] = TITLE.text\n",
    "df['Title']=t\n",
    "df['url']=url\n",
    "\n",
    "\n",
    "df['isZH']={}\n",
    "for i, tt in enumerate(df['Title']):\n",
    "    df['Title'].loc[i] = re.sub(r'/', '-', re.sub(r'\\n', '', re.sub(r' ', '', tt)) )\n",
    "    df['isZH'].loc[i] = (re.findall('繁', tt))\n",
    "    \n",
    "df[df['isZH'].str.len()!=0]"
   ]
  }
 ],
 "metadata": {
  "kernelspec": {
   "display_name": "base",
   "language": "python",
   "name": "python3"
  },
  "language_info": {
   "codemirror_mode": {
    "name": "ipython",
    "version": 3
   },
   "file_extension": ".py",
   "mimetype": "text/x-python",
   "name": "python",
   "nbconvert_exporter": "python",
   "pygments_lexer": "ipython3",
   "version": "3.11.5"
  }
 },
 "nbformat": 4,
 "nbformat_minor": 2
}
